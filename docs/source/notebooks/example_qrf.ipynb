{
 "cells": [
  {
   "cell_type": "markdown",
   "metadata": {
    "collapsed": true,
    "pycharm": {
     "name": "#%% md\n"
    }
   },
   "source": [
    "# Prediction Intervals for Quantile Regression Forests"
   ]
  },
  {
   "cell_type": "markdown",
   "source": [
    "This example shows how quantile regression can be used to create prediction\n",
    "intervals. Note that this is an adapted example from Gradient Boosting regression\n",
    "with quantile loss. The procedure and conclusions remain almost exactly the same."
   ],
   "metadata": {
    "collapsed": false,
    "pycharm": {
     "name": "#%% md\n"
    }
   }
  },
  {
   "cell_type": "markdown",
   "source": [
    "Generate some data for a synthetic regression problem by applying the\n",
    "function f to uniformly sampled random inputs."
   ],
   "metadata": {
    "collapsed": false,
    "pycharm": {
     "name": "#%% md\n"
    }
   }
  },
  {
   "cell_type": "code",
   "execution_count": 1,
   "outputs": [],
   "source": [
    "import numpy as np\n",
    "from sklearn.model_selection import train_test_split"
   ],
   "metadata": {
    "collapsed": false,
    "pycharm": {
     "name": "#%%\n"
    }
   }
  },
  {
   "cell_type": "code",
   "execution_count": 2,
   "outputs": [],
   "source": [
    "def f(x):\n",
    "    \"\"\"The function to predict.\"\"\"\n",
    "    return x * np.sin(x)\n",
    "\n",
    "\n",
    "rng = np.random.RandomState(42)\n",
    "X = np.atleast_2d(rng.uniform(0, 10.0, size=1000)).T\n",
    "expected_y = f(X).ravel()"
   ],
   "metadata": {
    "collapsed": false,
    "pycharm": {
     "name": "#%%\n"
    }
   }
  },
  {
   "cell_type": "markdown",
   "source": [
    "To make the problem interesting, we generate observations of the target y as\n",
    "the sum of a deterministic term computed by the function f and a random noise\n",
    "term that follows a centered `log-normal\n",
    "<https://en.wikipedia.org/wiki/Log-normal_distribution>`_. To make this even\n",
    "more interesting we consider the case where the amplitude of the noise\n",
    "depends on the input variable x (heteroscedastic noise).\n",
    "\n",
    "The lognormal distribution is non-symmetric and long tailed: observing large\n",
    "outliers is likely but it is impossible to observe small outliers."
   ],
   "metadata": {
    "collapsed": false,
    "pycharm": {
     "name": "#%% md\n"
    }
   }
  },
  {
   "cell_type": "code",
   "execution_count": 3,
   "outputs": [],
   "source": [
    "sigma = 0.5 + X.ravel() / 10\n",
    "noise = rng.lognormal(sigma=sigma) - np.exp(sigma ** 2 / 2)\n",
    "y = expected_y + noise"
   ],
   "metadata": {
    "collapsed": false,
    "pycharm": {
     "name": "#%%\n"
    }
   }
  },
  {
   "cell_type": "markdown",
   "source": [
    "Split into train, test datasets:"
   ],
   "metadata": {
    "collapsed": false,
    "pycharm": {
     "name": "#%% md\n"
    }
   }
  },
  {
   "cell_type": "code",
   "execution_count": 4,
   "outputs": [],
   "source": [
    "X_train, X_test, y_train, y_test = train_test_split(X, y, random_state=0)"
   ],
   "metadata": {
    "collapsed": false,
    "pycharm": {
     "name": "#%%\n"
    }
   }
  },
  {
   "cell_type": "markdown",
   "source": [
    "## Fitting non-linear quantile and least squares regressors"
   ],
   "metadata": {
    "collapsed": false,
    "pycharm": {
     "name": "#%% md\n"
    }
   }
  },
  {
   "cell_type": "markdown",
   "source": [
    "Fit a Random Forest Regressor and Quantile Regression Forest based on the same parameterisation."
   ],
   "metadata": {
    "collapsed": false,
    "pycharm": {
     "name": "#%% md\n"
    }
   }
  },
  {
   "cell_type": "code",
   "execution_count": 5,
   "outputs": [],
   "source": [
    "from sklearn_quantile import RandomForestQuantileRegressor\n",
    "from sklearn.ensemble import RandomForestRegressor\n",
    "from sklearn.metrics import mean_pinball_loss, mean_squared_error"
   ],
   "metadata": {
    "collapsed": false,
    "pycharm": {
     "name": "#%%\n"
    }
   }
  },
  {
   "cell_type": "code",
   "execution_count": 6,
   "outputs": [
    {
     "data": {
      "text/plain": "RandomForestQuantileRegressor(max_depth=3, min_samples_leaf=4, min_samples_split=4, quantiles=[0.05, 0.5, 0.95], method='default')"
     },
     "execution_count": 6,
     "metadata": {},
     "output_type": "execute_result"
    }
   ],
   "source": [
    "common_params = dict(\n",
    "    max_depth=3,\n",
    "    min_samples_leaf=4,\n",
    "    min_samples_split=4,\n",
    ")\n",
    "qrf = RandomForestQuantileRegressor(**common_params, q=[0.05, 0.5, 0.95])\n",
    "qrf.fit(X_train, y_train)"
   ],
   "metadata": {
    "collapsed": false,
    "pycharm": {
     "name": "#%%\n"
    }
   }
  },
  {
   "cell_type": "markdown",
   "source": [
    "For the sake of comparison, also fit a standard Regression Forest"
   ],
   "metadata": {
    "collapsed": false,
    "pycharm": {
     "name": "#%% md\n"
    }
   }
  },
  {
   "cell_type": "code",
   "execution_count": 7,
   "outputs": [
    {
     "data": {
      "text/plain": "RandomForestRegressor(max_depth=3, min_samples_leaf=4, min_samples_split=4)"
     },
     "execution_count": 7,
     "metadata": {},
     "output_type": "execute_result"
    }
   ],
   "source": [
    "rf = RandomForestRegressor(**common_params)\n",
    "rf.fit(X_train, y_train)"
   ],
   "metadata": {
    "collapsed": false,
    "pycharm": {
     "name": "#%%\n"
    }
   }
  },
  {
   "cell_type": "markdown",
   "source": [
    "Create an evenly spaced evaluation set of input values spanning the [0, 10] range."
   ],
   "metadata": {
    "collapsed": false,
    "pycharm": {
     "name": "#%% md\n"
    }
   }
  },
  {
   "cell_type": "code",
   "execution_count": 8,
   "outputs": [],
   "source": [
    "xx = np.atleast_2d(np.linspace(0, 10, 1000)).T"
   ],
   "metadata": {
    "collapsed": false,
    "pycharm": {
     "name": "#%%\n"
    }
   }
  },
  {
   "cell_type": "markdown",
   "source": [
    "All quantile predictions are done simultaneously."
   ],
   "metadata": {
    "collapsed": false,
    "pycharm": {
     "name": "#%% md\n"
    }
   }
  },
  {
   "cell_type": "code",
   "execution_count": 9,
   "outputs": [],
   "source": [
    "predictions = qrf.predict(xx)"
   ],
   "metadata": {
    "collapsed": false,
    "pycharm": {
     "name": "#%%\n"
    }
   }
  },
  {
   "cell_type": "markdown",
   "source": [
    "Plot the true conditional mean function f, the prediction of the conditional mean (least squares loss),\n",
    "the conditional median and the conditional 90% interval (from 5th to 95th conditional percentiles)."
   ],
   "metadata": {
    "collapsed": false,
    "pycharm": {
     "name": "#%% md\n"
    }
   }
  },
  {
   "cell_type": "code",
   "execution_count": 10,
   "outputs": [
    {
     "name": "stderr",
     "output_type": "stream",
     "text": [
      "/tmp/ipykernel_69250/1410534679.py:11: UserWarning: color is redundantly defined by the 'color' keyword argument and the fmt string \"r-\" (-> color='r'). The keyword argument will take precedence.\n",
      "  plt.plot(xx, y_med, 'r-', label='Predicted median', color=\"orange\")\n"
     ]
    },
    {
     "data": {
      "text/plain": "<Figure size 720x720 with 1 Axes>",
      "image/png": "[encoded data removed]"
     },
     "metadata": {
      "needs_background": "light"
     },
     "output_type": "display_data"
    }
   ],
   "source": [
    "import matplotlib.pyplot as plt\n",
    "\n",
    "y_pred = rf.predict(xx)\n",
    "y_lower = predictions[0]\n",
    "y_med = predictions[1]\n",
    "y_upper = predictions[2]\n",
    "\n",
    "fig = plt.figure(figsize=(10, 10))\n",
    "plt.plot(xx, f(xx), 'g:', linewidth=3, label=r'$f(x) = x\\,\\sin(x)$')\n",
    "plt.plot(X_test, y_test, 'b.', markersize=10, label='Test observations')\n",
    "plt.plot(xx, y_med, 'r-', label='Predicted median', color=\"orange\")\n",
    "plt.plot(xx, y_pred, 'r-', label='Predicted mean')\n",
    "plt.plot(xx, y_upper, 'k-')\n",
    "plt.plot(xx, y_lower, 'k-')\n",
    "plt.fill_between(xx.ravel(), y_lower, y_upper, alpha=0.4,\n",
    "                 label='Predicted 90% interval')\n",
    "plt.xlabel('$x$')\n",
    "plt.ylabel('$f(x)$')\n",
    "plt.ylim(-10, 25)\n",
    "plt.legend(loc='upper left')\n",
    "plt.show()"
   ],
   "metadata": {
    "collapsed": false,
    "pycharm": {
     "name": "#%%\n"
    }
   }
  },
  {
   "cell_type": "markdown",
   "source": [
    "Comparing the predicted median with the predicted mean, we note that the median is on average below the mean as the noise is skewed towards high values (large outliers). The median estimate also seems to be smoother because of its natural robustness to outliers."
   ],
   "metadata": {
    "collapsed": false,
    "pycharm": {
     "name": "#%% md\n"
    }
   }
  },
  {
   "cell_type": "markdown",
   "source": [
    "## Analysis of the error metrics"
   ],
   "metadata": {
    "collapsed": false,
    "pycharm": {
     "name": "#%% md\n"
    }
   }
  },
  {
   "cell_type": "markdown",
   "source": [
    "Measure the models with :func:`sklearn.mean_squared_error` and\n",
    ":func:`sklearn.mean_pinball_loss` metrics on the training dataset."
   ],
   "metadata": {
    "collapsed": false,
    "pycharm": {
     "name": "#%% md\n"
    }
   }
  },
  {
   "cell_type": "code",
   "execution_count": 11,
   "outputs": [
    {
     "ename": "NameError",
     "evalue": "name 'pd' is not defined",
     "output_type": "error",
     "traceback": [
      "\u001B[0;31m---------------------------------------------------------------------------\u001B[0m",
      "\u001B[0;31mNameError\u001B[0m                                 Traceback (most recent call last)",
      "Input \u001B[0;32mIn [11]\u001B[0m, in \u001B[0;36m<module>\u001B[0;34m\u001B[0m\n\u001B[1;32m     17\u001B[0m     metrics[\u001B[38;5;124m'\u001B[39m\u001B[38;5;124mMSE\u001B[39m\u001B[38;5;124m'\u001B[39m] \u001B[38;5;241m=\u001B[39m mean_squared_error(y_train, y_pred)\n\u001B[1;32m     18\u001B[0m     results\u001B[38;5;241m.\u001B[39mappend(metrics)\n\u001B[0;32m---> 20\u001B[0m \u001B[43mpd\u001B[49m\u001B[38;5;241m.\u001B[39mDataFrame(results)\u001B[38;5;241m.\u001B[39mset_index(\u001B[38;5;124m'\u001B[39m\u001B[38;5;124mmodel\u001B[39m\u001B[38;5;124m'\u001B[39m)\u001B[38;5;241m.\u001B[39mstyle\u001B[38;5;241m.\u001B[39mapply(highlight_min)\n",
      "\u001B[0;31mNameError\u001B[0m: name 'pd' is not defined"
     ]
    }
   ],
   "source": [
    "import pandas as pd\n",
    "\n",
    "def highlight_min(x):\n",
    "    x_min = x.min()\n",
    "    return ['font-weight: bold' if v == x_min else ''\n",
    "            for v in x]\n",
    "\n",
    "\n",
    "results = []\n",
    "for i, model in enumerate([\"q 0.05\", \"q 0.5\", \"q 0.95\", \"rf\"]):\n",
    "    metrics = {'model': model}\n",
    "    if model == \"rf\":\n",
    "        y_pred = rf.predict(X_train)\n",
    "    else:\n",
    "        y_pred = qrf.predict(X_train)[i]\n",
    "    for alpha in [0.05, 0.5, 0.95]:\n",
    "        metrics[\"pbl=%1.2f\" % alpha] = mean_pinball_loss(\n",
    "            y_train, y_pred, alpha=alpha)\n",
    "    metrics['MSE'] = mean_squared_error(y_train, y_pred)\n",
    "    results.append(metrics)\n",
    "\n",
    "pd.DataFrame(results).set_index('model').style.apply(highlight_min)"
   ],
   "metadata": {
    "collapsed": false,
    "pycharm": {
     "name": "#%%\n"
    }
   }
  },
  {
   "cell_type": "markdown",
   "source": [
    "One column shows all models evaluated by the same metric. The minimum number on a column should\n",
    "be obtained when the model is trained and measured with\n",
    "the same metric. This should be always the case on the training set if the training converged.\n",
    "\n",
    "Note that because the target distribution is asymmetric, the expected\n",
    "conditional mean and conditional median are signficiantly different and\n",
    "therefore one could not use the least squares model get a good estimation of\n",
    "the conditional median nor the converse.\n",
    "\n",
    "If the target distribution were symmetric and had no outliers (e.g. with a\n",
    "Gaussian noise), then median estimator and the least squares estimator would\n",
    "have yielded similar predictions.\n",
    "\n",
    "We then do the same on the test set."
   ],
   "metadata": {
    "collapsed": false,
    "pycharm": {
     "name": "#%% md\n"
    }
   }
  },
  {
   "cell_type": "code",
   "execution_count": 12,
   "outputs": [
    {
     "ename": "NameError",
     "evalue": "name 'pd' is not defined",
     "output_type": "error",
     "traceback": [
      "\u001B[0;31m---------------------------------------------------------------------------\u001B[0m",
      "\u001B[0;31mNameError\u001B[0m                                 Traceback (most recent call last)",
      "Input \u001B[0;32mIn [12]\u001B[0m, in \u001B[0;36m<module>\u001B[0;34m\u001B[0m\n\u001B[1;32m     11\u001B[0m     metrics[\u001B[38;5;124m'\u001B[39m\u001B[38;5;124mMSE\u001B[39m\u001B[38;5;124m'\u001B[39m] \u001B[38;5;241m=\u001B[39m mean_squared_error(y_test, y_pred)\n\u001B[1;32m     12\u001B[0m     results\u001B[38;5;241m.\u001B[39mappend(metrics)\n\u001B[0;32m---> 14\u001B[0m \u001B[43mpd\u001B[49m\u001B[38;5;241m.\u001B[39mDataFrame(results)\u001B[38;5;241m.\u001B[39mset_index(\u001B[38;5;124m'\u001B[39m\u001B[38;5;124mmodel\u001B[39m\u001B[38;5;124m'\u001B[39m)\u001B[38;5;241m.\u001B[39mstyle\u001B[38;5;241m.\u001B[39mapply(highlight_min)\n",
      "\u001B[0;31mNameError\u001B[0m: name 'pd' is not defined"
     ]
    }
   ],
   "source": [
    "results = []\n",
    "for i, model in enumerate([\"q 0.05\", \"q 0.5\", \"q 0.95\", \"rf\"]):\n",
    "    metrics = {'model': model}\n",
    "    if model == \"rf\":\n",
    "        y_pred = rf.predict(X_test)\n",
    "    else:\n",
    "        y_pred = qrf.predict(X_test)[i]\n",
    "    for alpha in [0.05, 0.5, 0.95]:\n",
    "        metrics[\"pbl=%1.2f\" % alpha] = mean_pinball_loss(\n",
    "            y_test, y_pred, alpha=alpha)\n",
    "    metrics['MSE'] = mean_squared_error(y_test, y_pred)\n",
    "    results.append(metrics)\n",
    "\n",
    "pd.DataFrame(results).set_index('model').style.apply(highlight_min)"
   ],
   "metadata": {
    "collapsed": false,
    "pycharm": {
     "name": "#%%\n"
    }
   }
  },
  {
   "cell_type": "markdown",
   "source": [
    "Errors are very similar to the ones for the training data, meaning that\n",
    "the model is fitting reasonably well on the data.\n",
    "\n",
    "Note that the conditional median estimator is actually showing a lower MSE\n",
    "in comparison to the standard Regression Forests: this can be explained by\n",
    "the fact the least squares estimator is very sensitive to large outliers\n",
    "which can cause significant overfitting. This can be seen on the right hand\n",
    "side of the previous plot. The conditional median estimator is biased\n",
    "(underestimation for this asymetric noise) but is also naturally robust to\n",
    "outliers and overfits less."
   ],
   "metadata": {
    "collapsed": false,
    "pycharm": {
     "name": "#%% md\n"
    }
   }
  },
  {
   "cell_type": "markdown",
   "source": [
    "## Calibration of the confidence interval"
   ],
   "metadata": {
    "collapsed": false,
    "pycharm": {
     "name": "#%% md\n"
    }
   }
  },
  {
   "cell_type": "raw",
   "source": [
    "We can also evaluate the ability of the two extreme quantile estimators at\n",
    "producing a well-calibrated conditational 90%-confidence interval.\n",
    "\n",
    "To do this we can compute the fraction of observations that fall between the\n",
    "predictions:"
   ],
   "metadata": {
    "collapsed": false,
    "pycharm": {
     "name": "#%% raw\n"
    }
   }
  },
  {
   "cell_type": "code",
   "execution_count": 15,
   "outputs": [
    {
     "data": {
      "text/plain": "0.924"
     },
     "execution_count": 15,
     "metadata": {},
     "output_type": "execute_result"
    }
   ],
   "source": [
    "def coverage_fraction(y, y_low, y_high):\n",
    "    return np.mean(np.logical_and(y >= y_low, y <= y_high))\n",
    "\n",
    "\n",
    "coverage_fraction(y_train,\n",
    "                  qrf.predict(X_train)[0],\n",
    "                  qrf.predict(X_train)[2])"
   ],
   "metadata": {
    "collapsed": false,
    "pycharm": {
     "name": "#%%\n"
    }
   }
  },
  {
   "cell_type": "markdown",
   "source": [
    "On the training set the calibration is very close to the expected coverage\n",
    "value for a 90% confidence interval."
   ],
   "metadata": {
    "collapsed": false,
    "pycharm": {
     "name": "#%% md\n"
    }
   }
  },
  {
   "cell_type": "code",
   "execution_count": 16,
   "outputs": [
    {
     "data": {
      "text/plain": "0.94"
     },
     "execution_count": 16,
     "metadata": {},
     "output_type": "execute_result"
    }
   ],
   "source": [
    "coverage_fraction(y_test,\n",
    "                  qrf.predict(X_test)[0],\n",
    "                  qrf.predict(X_test)[2])"
   ],
   "metadata": {
    "collapsed": false,
    "pycharm": {
     "name": "#%%\n"
    }
   }
  },
  {
   "cell_type": "markdown",
   "source": [
    "On the test set the coverage is even closer to the expected 90%."
   ],
   "metadata": {
    "collapsed": false,
    "pycharm": {
     "name": "#%% md\n"
    }
   }
  },
  {
   "cell_type": "markdown",
   "source": [
    "## Tuning the hyper-parameters of the quantile regressors"
   ],
   "metadata": {
    "collapsed": false,
    "pycharm": {
     "name": "#%% md\n"
    }
   }
  },
  {
   "cell_type": "markdown",
   "source": [
    "In the plot above, we observed that the 5th percentile predictions seems to\n",
    "underfit and could not adapt to sinusoidal shape of the signal.\n",
    "\n",
    "The hyper-parameters of the model were approximately hand-tuned for the\n",
    "median regressor and there is no reason than the same hyper-parameters are\n",
    "suitable for the 5th percentile regressor.\n",
    "\n",
    "To confirm this hypothesis, we tune the hyper-parameters of each quantile\n",
    "separately with the pinball loss with alpha being the quantile of the\n",
    "regressor."
   ],
   "metadata": {
    "collapsed": false,
    "pycharm": {
     "name": "#%% md\n"
    }
   }
  },
  {
   "cell_type": "code",
   "execution_count": 17,
   "outputs": [
    {
     "name": "stdout",
     "output_type": "stream",
     "text": [
      "{'max_depth': 10,\n",
      " 'min_samples_leaf': 5,\n",
      " 'min_samples_split': 5,\n",
      " 'n_estimators': 300}\n"
     ]
    }
   ],
   "source": [
    "from sklearn.model_selection import RandomizedSearchCV\n",
    "from sklearn.metrics import make_scorer\n",
    "from pprint import pprint\n",
    "\n",
    "\n",
    "param_grid = dict(\n",
    "    n_estimators=[100, 150, 200, 250, 300],\n",
    "    max_depth=[2, 5, 10, 15, 20],\n",
    "    min_samples_leaf=[1, 5, 10, 20, 30, 50],\n",
    "    min_samples_split=[2, 5, 10, 20, 30, 50],\n",
    ")\n",
    "q = 0.05\n",
    "neg_mean_pinball_loss_05p_scorer = make_scorer(\n",
    "    mean_pinball_loss,\n",
    "    alpha=q,\n",
    "    greater_is_better=False,  # maximize the negative loss\n",
    ")\n",
    "qrf = RandomForestQuantileRegressor(random_state=0, q=q)\n",
    "search_05p = RandomizedSearchCV(\n",
    "    qrf,\n",
    "    param_grid,\n",
    "    n_iter=10,  # increase this if computational budget allows\n",
    "    scoring=neg_mean_pinball_loss_05p_scorer,\n",
    "    n_jobs=2,\n",
    "    random_state=0,\n",
    ").fit(X_train, y_train)\n",
    "pprint(search_05p.best_params_)"
   ],
   "metadata": {
    "collapsed": false,
    "pycharm": {
     "name": "#%%\n"
    }
   }
  },
  {
   "cell_type": "markdown",
   "source": [
    "We observe that the search procedure identifies that deeper trees are needed\n",
    "to get a good fit for the 5th percentile regressor. Deeper trees are more\n",
    "expressive and less likely to underfit.\n",
    "\n",
    "Let's now tune the hyper-parameters for the 95th percentile regressor. We\n",
    "need to redefine the `scoring` metric used to select the best model, along\n",
    "with adjusting the quantile parameter of the inner gradient boosting estimator\n",
    "itself:"
   ],
   "metadata": {
    "collapsed": false,
    "pycharm": {
     "name": "#%% md\n"
    }
   }
  },
  {
   "cell_type": "code",
   "execution_count": 18,
   "outputs": [
    {
     "name": "stdout",
     "output_type": "stream",
     "text": [
      "{'max_depth': 2,\n",
      " 'min_samples_leaf': 5,\n",
      " 'min_samples_split': 2,\n",
      " 'n_estimators': 150}\n"
     ]
    }
   ],
   "source": [
    "from sklearn.base import clone\n",
    "\n",
    "q = 0.95\n",
    "neg_mean_pinball_loss_95p_scorer = make_scorer(\n",
    "    mean_pinball_loss,\n",
    "    alpha=q,\n",
    "    greater_is_better=False,  # maximize the negative loss\n",
    ")\n",
    "search_95p = clone(search_05p).set_params(\n",
    "    estimator__q=q,\n",
    "    scoring=neg_mean_pinball_loss_95p_scorer,\n",
    ")\n",
    "search_95p.fit(X_train, y_train)\n",
    "pprint(search_95p.best_params_)"
   ],
   "metadata": {
    "collapsed": false,
    "pycharm": {
     "name": "#%%\n"
    }
   }
  },
  {
   "cell_type": "markdown",
   "source": [
    "This time, shallower trees are selected and lead to a more constant piecewise\n",
    "and therefore more robust estimation of the 95th percentile. This is\n",
    "beneficial as it avoids overfitting the large outliers of the log-normal\n",
    "additive noise.\n",
    "\n",
    "We can confirm this intuition by displaying the predicted 90% confidence\n",
    "interval comprised by the predictions of those two tuned quantile regressors:\n",
    "the prediction of the upper 95th percentile has a much coarser shape than the\n",
    "prediction of the lower 5th percentile:"
   ],
   "metadata": {
    "collapsed": false,
    "pycharm": {
     "name": "#%% md\n"
    }
   }
  },
  {
   "cell_type": "code",
   "execution_count": 20,
   "outputs": [
    {
     "data": {
      "text/plain": "<Figure size 720x720 with 1 Axes>",
      "image/png": "[encoded data removed]"
     },
     "metadata": {
      "needs_background": "light"
     },
     "output_type": "display_data"
    }
   ],
   "source": [
    "y_lower = search_05p.predict(xx)\n",
    "y_upper = search_95p.predict(xx)\n",
    "\n",
    "fig = plt.figure(figsize=(10, 10))\n",
    "plt.plot(xx, f(xx), 'g:', linewidth=3, label=r'$f(x) = x\\,\\sin(x)$')\n",
    "plt.plot(X_test, y_test, 'b.', markersize=10, label='Test observations')\n",
    "plt.plot(xx, y_upper, 'k-')\n",
    "plt.plot(xx, y_lower, 'k-')\n",
    "plt.fill_between(xx.ravel(), y_lower, y_upper, alpha=0.4,\n",
    "                 label='Predicted 90% interval')\n",
    "plt.xlabel('$x$')\n",
    "plt.ylabel('$f(x)$')\n",
    "plt.ylim(-10, 25)\n",
    "plt.legend(loc='upper left')\n",
    "plt.title(\"Prediction with tuned hyper-parameters\")\n",
    "plt.show()"
   ],
   "metadata": {
    "collapsed": false,
    "pycharm": {
     "name": "#%%\n"
    }
   }
  },
  {
   "cell_type": "markdown",
   "source": [
    "The plot looks qualitatively better than for the untuned models, especially\n",
    "for the shape of the of lower quantile.\n",
    "\n",
    "We now quantitatively evaluate the joint-calibration of the pair of\n",
    "estimators:"
   ],
   "metadata": {
    "collapsed": false,
    "pycharm": {
     "name": "#%% md\n"
    }
   }
  },
  {
   "cell_type": "code",
   "execution_count": 21,
   "outputs": [
    {
     "data": {
      "text/plain": "0.94"
     },
     "execution_count": 21,
     "metadata": {},
     "output_type": "execute_result"
    }
   ],
   "source": [
    "coverage_fraction(y_train,\n",
    "                  search_05p.predict(X_train),\n",
    "                  search_95p.predict(X_train))"
   ],
   "metadata": {
    "collapsed": false,
    "pycharm": {
     "name": "#%%\n"
    }
   }
  },
  {
   "cell_type": "code",
   "execution_count": 22,
   "outputs": [
    {
     "data": {
      "text/plain": "0.9"
     },
     "execution_count": 22,
     "metadata": {},
     "output_type": "execute_result"
    }
   ],
   "source": [
    "coverage_fraction(y_test,\n",
    "                  search_05p.predict(X_test),\n",
    "                  search_95p.predict(X_test))"
   ],
   "metadata": {
    "collapsed": false,
    "pycharm": {
     "name": "#%%\n"
    }
   }
  },
  {
   "cell_type": "markdown",
   "source": [
    "The calibrated pinball loss on the test set is exactly the expected 90 percent coverage."
   ],
   "metadata": {
    "collapsed": false,
    "pycharm": {
     "name": "#%% md\n"
    }
   }
  },
  {
   "cell_type": "code",
   "execution_count": null,
   "outputs": [],
   "source": [],
   "metadata": {
    "collapsed": false,
    "pycharm": {
     "name": "#%%\n"
    }
   }
  }
 ],
 "metadata": {
  "kernelspec": {
   "display_name": "Python 3",
   "language": "python",
   "name": "python3"
  },
  "language_info": {
   "codemirror_mode": {
    "name": "ipython",
    "version": 2
   },
   "file_extension": ".py",
   "mimetype": "text/x-python",
   "name": "python",
   "nbconvert_exporter": "python",
   "pygments_lexer": "ipython2",
   "version": "2.7.6"
  }
 },
 "nbformat": 4,
 "nbformat_minor": 0
}